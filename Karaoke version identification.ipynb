{
 "cells": [
  {
   "cell_type": "code",
   "execution_count": 7,
   "metadata": {
    "collapsed": false
   },
   "outputs": [],
   "source": [
    "import librosa, librosa.display\n",
    "import numpy as np\n",
    "import matplotlib.pyplot as plt\n",
    "%matplotlib inline\n",
    "import IPython.display"
   ]
  },
  {
   "cell_type": "markdown",
   "metadata": {},
   "source": [
    "## Load original and karaoke audios"
   ]
  },
  {
   "cell_type": "code",
   "execution_count": 8,
   "metadata": {
    "collapsed": false
   },
   "outputs": [],
   "source": [
    "taylor_original, sr_original = librosa.load(\"taylor_swift_original.mp3\", sr=None)\n",
    "taylor_karaoke, sr_karaoke = librosa.load(\"taylor_swift_karaoke.mp3\", sr=None)"
   ]
  },
  {
   "cell_type": "code",
   "execution_count": 10,
   "metadata": {
    "collapsed": true
   },
   "outputs": [],
   "source": [
    "D_original = np.abs(librosa.stft(taylor_original))**2\n",
    "S_original = librosa.feature.melspectrogram(S=D_original)\n",
    "\n",
    "D_karaoke = np.abs(librosa.stft(taylor_karaoke))**2\n",
    "S_karaoke = librosa.feature.melspectrogram(S=D_karaoke)"
   ]
  },
  {
   "cell_type": "code",
   "execution_count": null,
   "metadata": {
    "collapsed": false
   },
   "outputs": [
    {
     "data": {
      "text/plain": [
       "<matplotlib.text.Text at 0x7fd73deed518>"
      ]
     },
     "execution_count": 12,
     "metadata": {},
     "output_type": "execute_result"
    }
   ],
   "source": [
    "plt.figure(figsize=(14, 7))\n",
    "plt.subplot(2,1,1)\n",
    "librosa.display.specshow(librosa.power_to_db(S_original,\n",
    "                                              ref=np.max),\n",
    "                          y_axis='mel', fmax=8000,\n",
    "                          x_axis='time')\n",
    "plt.colorbar(format='%+2.0f dB')\n",
    "plt.title('Mel spectrogram from Original Version')\n",
    "\n",
    "plt.subplot(2,1,2)\n",
    "librosa.display.specshow(librosa.power_to_db(S_karaoke,\n",
    "                                              ref=np.max),\n",
    "                          y_axis='mel', fmax=8000,\n",
    "                          x_axis='time')\n",
    "plt.colorbar(format='%+2.0f dB')\n",
    "plt.title('Mel spectrogram from Karaoke Version')\n",
    "plt.show()"
   ]
  },
  {
   "cell_type": "code",
   "execution_count": null,
   "metadata": {
    "collapsed": true
   },
   "outputs": [],
   "source": [
    "iterations = len(taylor_original) - len(taylor_karaoke)"
   ]
  }
 ],
 "metadata": {
  "kernelspec": {
   "display_name": "Python 3",
   "language": "python",
   "name": "python3"
  },
  "language_info": {
   "codemirror_mode": {
    "name": "ipython",
    "version": 3
   },
   "file_extension": ".py",
   "mimetype": "text/x-python",
   "name": "python",
   "nbconvert_exporter": "python",
   "pygments_lexer": "ipython3",
   "version": "3.5.3"
  }
 },
 "nbformat": 4,
 "nbformat_minor": 2
}
